{
  "nbformat": 4,
  "nbformat_minor": 0,
  "metadata": {
    "colab": {
      "name": "EE488_02B_CartPole_DQN_SB3_distribute.ipynb",
      "provenance": [],
      "collapsed_sections": []
    },
    "kernelspec": {
      "name": "python3",
      "display_name": "Python 3"
    },
    "language_info": {
      "name": "python"
    },
    "accelerator": "GPU"
  },
  "cells": [
    {
      "cell_type": "markdown",
      "source": [
        "# **KAIST EE**\n",
        "#  **[EE488] note 02B. CartPole (using a reinforcement learning library)**\n",
        "## **Instructor**: Prof. Yoon, Young-Gyu (ygyoon@kaist.ac.kr)\n",
        "### This example code was prepared by EE488 teaching assistants Han, Seungjae (jay0118@kaist.ac.kr) & Shin, Changyeop (scey26@kaist.ac.kr).\n",
        "\n",
        "- Class Date : 22.03.xx.\n",
        "- Office Hour : -----------\n",
        "- If you have any questions, ask via KLMS Q&A board or come to TA office hour to get our help."
      ],
      "metadata": {
        "id": "yPpALQXdfRme"
      }
    },
    {
      "cell_type": "markdown",
      "source": [
        "---"
      ],
      "metadata": {
        "id": "wPunBNOmqWhq"
      }
    },
    {
      "cell_type": "markdown",
      "source": [
        "### 0. In this example, we will for solve CartPole (an inverted pendulum problem) again using a library called **Stable Baselines3** which provides multiple state-of-the-art reinforcement learning algorithms. This way, we can try multiple algorithms without having to to worry about any low level implementation of the algorithms\n",
        "\n",
        "\n",
        "**Stable Baselines3**\n",
        "\n",
        "Stable Baselines3 (SB3) is a set of reliable implementations of reinforcement learning algorithms in PyTorch. It is the next major version of Stable Baselines.\n",
        "\n",
        "Github repository: https://github.com/DLR-RM/stable-baselines3\n",
        "\n",
        "Paper: https://jmlr.org/papers/volume22/20-1364/20-1364.pdf\n",
        "https://stable-baselines3.readthedocs.io/en/master/\n",
        "\n",
        "Manual: https://stable-baselines3.readthedocs.io/_/downloads/en/master/pdf/\n",
        "\n",
        "\n",
        "\n",
        "![image.png](data:image/png;base64,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)\n",
        "\n",
        "\n",
        "**CartPole-v1**\n",
        "A pole is attached by an un-actuated joint to a cart, which moves along a frictionless track. The system is controlled by applying a force of +1 or -1 to the cart. The pendulum starts upright, and the goal is to prevent it from falling over. A reward of +1 is provided for every timestep that the pole remains upright. The episode ends when the pole is more than 15 degrees from vertical, or the cart moves more than 2.4 units from the center.\n",
        "\n",
        "https://gym.openai.com/envs/CartPole-v1/\n",
        "\n",
        "\n",
        "\n"
      ],
      "metadata": {
        "id": "jiTHnBk5Jq_6"
      }
    },
    {
      "cell_type": "markdown",
      "source": [
        "### 1. Let's Install **stable-baselines3**."
      ],
      "metadata": {
        "id": "2hff-HQlfWIb"
      }
    },
    {
      "cell_type": "code",
      "source": [
        "! pip install stable-baselines3[extra]"
      ],
      "metadata": {
        "id": "1OYp0aGeRcrN",
        "colab": {
          "base_uri": "https://localhost:8080/"
        },
        "outputId": "dabcb66a-4d3e-4814-c152-95a4edf298d5"
      },
      "execution_count": null,
      "outputs": [
        {
          "output_type": "stream",
          "name": "stdout",
          "text": [
            "Requirement already satisfied: stable-baselines3[extra] in /usr/local/lib/python3.7/dist-packages (1.4.0)\n",
            "Requirement already satisfied: numpy in /usr/local/lib/python3.7/dist-packages (from stable-baselines3[extra]) (1.21.5)\n",
            "Requirement already satisfied: pandas in /usr/local/lib/python3.7/dist-packages (from stable-baselines3[extra]) (1.3.5)\n",
            "Requirement already satisfied: torch>=1.8.1 in /usr/local/lib/python3.7/dist-packages (from stable-baselines3[extra]) (1.10.0+cu111)\n",
            "Requirement already satisfied: cloudpickle in /usr/local/lib/python3.7/dist-packages (from stable-baselines3[extra]) (1.3.0)\n",
            "Requirement already satisfied: gym<0.20,>=0.17 in /usr/local/lib/python3.7/dist-packages (from stable-baselines3[extra]) (0.17.3)\n",
            "Requirement already satisfied: matplotlib in /usr/local/lib/python3.7/dist-packages (from stable-baselines3[extra]) (3.2.2)\n",
            "Requirement already satisfied: tensorboard>=2.2.0 in /usr/local/lib/python3.7/dist-packages (from stable-baselines3[extra]) (2.8.0)\n",
            "Requirement already satisfied: pillow in /usr/local/lib/python3.7/dist-packages (from stable-baselines3[extra]) (7.1.2)\n",
            "Requirement already satisfied: opencv-python in /usr/local/lib/python3.7/dist-packages (from stable-baselines3[extra]) (4.1.2.30)\n",
            "Requirement already satisfied: psutil in /usr/local/lib/python3.7/dist-packages (from stable-baselines3[extra]) (5.4.8)\n",
            "Requirement already satisfied: atari-py==0.2.6 in /usr/local/lib/python3.7/dist-packages (from stable-baselines3[extra]) (0.2.6)\n",
            "Requirement already satisfied: six in /usr/local/lib/python3.7/dist-packages (from atari-py==0.2.6->stable-baselines3[extra]) (1.15.0)\n",
            "Requirement already satisfied: scipy in /usr/local/lib/python3.7/dist-packages (from gym<0.20,>=0.17->stable-baselines3[extra]) (1.4.1)\n",
            "Requirement already satisfied: pyglet<=1.5.0,>=1.4.0 in /usr/local/lib/python3.7/dist-packages (from gym<0.20,>=0.17->stable-baselines3[extra]) (1.5.0)\n",
            "Requirement already satisfied: future in /usr/local/lib/python3.7/dist-packages (from pyglet<=1.5.0,>=1.4.0->gym<0.20,>=0.17->stable-baselines3[extra]) (0.16.0)\n",
            "Requirement already satisfied: absl-py>=0.4 in /usr/local/lib/python3.7/dist-packages (from tensorboard>=2.2.0->stable-baselines3[extra]) (1.0.0)\n",
            "Requirement already satisfied: google-auth-oauthlib<0.5,>=0.4.1 in /usr/local/lib/python3.7/dist-packages (from tensorboard>=2.2.0->stable-baselines3[extra]) (0.4.6)\n",
            "Requirement already satisfied: setuptools>=41.0.0 in /usr/local/lib/python3.7/dist-packages (from tensorboard>=2.2.0->stable-baselines3[extra]) (57.4.0)\n",
            "Requirement already satisfied: google-auth<3,>=1.6.3 in /usr/local/lib/python3.7/dist-packages (from tensorboard>=2.2.0->stable-baselines3[extra]) (1.35.0)\n",
            "Requirement already satisfied: werkzeug>=0.11.15 in /usr/local/lib/python3.7/dist-packages (from tensorboard>=2.2.0->stable-baselines3[extra]) (1.0.1)\n",
            "Requirement already satisfied: markdown>=2.6.8 in /usr/local/lib/python3.7/dist-packages (from tensorboard>=2.2.0->stable-baselines3[extra]) (3.3.6)\n",
            "Requirement already satisfied: requests<3,>=2.21.0 in /usr/local/lib/python3.7/dist-packages (from tensorboard>=2.2.0->stable-baselines3[extra]) (2.23.0)\n",
            "Requirement already satisfied: tensorboard-data-server<0.7.0,>=0.6.0 in /usr/local/lib/python3.7/dist-packages (from tensorboard>=2.2.0->stable-baselines3[extra]) (0.6.1)\n",
            "Requirement already satisfied: tensorboard-plugin-wit>=1.6.0 in /usr/local/lib/python3.7/dist-packages (from tensorboard>=2.2.0->stable-baselines3[extra]) (1.8.1)\n",
            "Requirement already satisfied: wheel>=0.26 in /usr/local/lib/python3.7/dist-packages (from tensorboard>=2.2.0->stable-baselines3[extra]) (0.37.1)\n",
            "Requirement already satisfied: protobuf>=3.6.0 in /usr/local/lib/python3.7/dist-packages (from tensorboard>=2.2.0->stable-baselines3[extra]) (3.17.3)\n",
            "Requirement already satisfied: grpcio>=1.24.3 in /usr/local/lib/python3.7/dist-packages (from tensorboard>=2.2.0->stable-baselines3[extra]) (1.43.0)\n",
            "Requirement already satisfied: cachetools<5.0,>=2.0.0 in /usr/local/lib/python3.7/dist-packages (from google-auth<3,>=1.6.3->tensorboard>=2.2.0->stable-baselines3[extra]) (4.2.4)\n",
            "Requirement already satisfied: rsa<5,>=3.1.4 in /usr/local/lib/python3.7/dist-packages (from google-auth<3,>=1.6.3->tensorboard>=2.2.0->stable-baselines3[extra]) (4.8)\n",
            "Requirement already satisfied: pyasn1-modules>=0.2.1 in /usr/local/lib/python3.7/dist-packages (from google-auth<3,>=1.6.3->tensorboard>=2.2.0->stable-baselines3[extra]) (0.2.8)\n",
            "Requirement already satisfied: requests-oauthlib>=0.7.0 in /usr/local/lib/python3.7/dist-packages (from google-auth-oauthlib<0.5,>=0.4.1->tensorboard>=2.2.0->stable-baselines3[extra]) (1.3.1)\n",
            "Requirement already satisfied: importlib-metadata>=4.4 in /usr/local/lib/python3.7/dist-packages (from markdown>=2.6.8->tensorboard>=2.2.0->stable-baselines3[extra]) (4.11.1)\n",
            "Requirement already satisfied: zipp>=0.5 in /usr/local/lib/python3.7/dist-packages (from importlib-metadata>=4.4->markdown>=2.6.8->tensorboard>=2.2.0->stable-baselines3[extra]) (3.7.0)\n",
            "Requirement already satisfied: typing-extensions>=3.6.4 in /usr/local/lib/python3.7/dist-packages (from importlib-metadata>=4.4->markdown>=2.6.8->tensorboard>=2.2.0->stable-baselines3[extra]) (3.10.0.2)\n",
            "Requirement already satisfied: pyasn1<0.5.0,>=0.4.6 in /usr/local/lib/python3.7/dist-packages (from pyasn1-modules>=0.2.1->google-auth<3,>=1.6.3->tensorboard>=2.2.0->stable-baselines3[extra]) (0.4.8)\n",
            "Requirement already satisfied: chardet<4,>=3.0.2 in /usr/local/lib/python3.7/dist-packages (from requests<3,>=2.21.0->tensorboard>=2.2.0->stable-baselines3[extra]) (3.0.4)\n",
            "Requirement already satisfied: idna<3,>=2.5 in /usr/local/lib/python3.7/dist-packages (from requests<3,>=2.21.0->tensorboard>=2.2.0->stable-baselines3[extra]) (2.10)\n",
            "Requirement already satisfied: certifi>=2017.4.17 in /usr/local/lib/python3.7/dist-packages (from requests<3,>=2.21.0->tensorboard>=2.2.0->stable-baselines3[extra]) (2021.10.8)\n",
            "Requirement already satisfied: urllib3!=1.25.0,!=1.25.1,<1.26,>=1.21.1 in /usr/local/lib/python3.7/dist-packages (from requests<3,>=2.21.0->tensorboard>=2.2.0->stable-baselines3[extra]) (1.24.3)\n",
            "Requirement already satisfied: oauthlib>=3.0.0 in /usr/local/lib/python3.7/dist-packages (from requests-oauthlib>=0.7.0->google-auth-oauthlib<0.5,>=0.4.1->tensorboard>=2.2.0->stable-baselines3[extra]) (3.2.0)\n",
            "Requirement already satisfied: kiwisolver>=1.0.1 in /usr/local/lib/python3.7/dist-packages (from matplotlib->stable-baselines3[extra]) (1.3.2)\n",
            "Requirement already satisfied: cycler>=0.10 in /usr/local/lib/python3.7/dist-packages (from matplotlib->stable-baselines3[extra]) (0.11.0)\n",
            "Requirement already satisfied: python-dateutil>=2.1 in /usr/local/lib/python3.7/dist-packages (from matplotlib->stable-baselines3[extra]) (2.8.2)\n",
            "Requirement already satisfied: pyparsing!=2.0.4,!=2.1.2,!=2.1.6,>=2.0.1 in /usr/local/lib/python3.7/dist-packages (from matplotlib->stable-baselines3[extra]) (3.0.7)\n",
            "Requirement already satisfied: pytz>=2017.3 in /usr/local/lib/python3.7/dist-packages (from pandas->stable-baselines3[extra]) (2018.9)\n"
          ]
        }
      ]
    },
    {
      "cell_type": "markdown",
      "source": [
        "### 2. Let's **mount Google drive** so that we can save files as we need."
      ],
      "metadata": {
        "id": "dtgbN4JGPSZ_"
      }
    },
    {
      "cell_type": "code",
      "source": [
        "from google.colab import drive\n",
        "drive.mount(\"/content/drive\")\n",
        "import sys\n",
        "import os\n",
        "\n",
        "filepath = \"/content/drive/My Drive//01_LectureNotes/EE488_AI_Capstone/Colab/\"  # Change this path for your Google drive setting.\n",
        "sys.path.append(filepath)\n",
        "experiment = \"CartPole_02B\"\n",
        "\n",
        "if not os.path.exists(f\"{filepath}\"):\n",
        "    os.makedirs(f\"{filepath}\")\n",
        "if not os.path.exists(f\"{filepath}/{experiment}\"):\n",
        "    os.makedirs(f\"{filepath}/{experiment}\")"
      ],
      "metadata": {
        "colab": {
          "base_uri": "https://localhost:8080/"
        },
        "id": "SyDX1pufPSIf",
        "outputId": "21e68612-b3e0-40ba-d42f-de609b9b5c30"
      },
      "execution_count": null,
      "outputs": [
        {
          "output_type": "stream",
          "name": "stdout",
          "text": [
            "Drive already mounted at /content/drive; to attempt to forcibly remount, call drive.mount(\"/content/drive\", force_remount=True).\n"
          ]
        }
      ]
    },
    {
      "cell_type": "markdown",
      "source": [
        "\n",
        "\n",
        "### 3. Let's install a few more things to setup RL enviroment. "
      ],
      "metadata": {
        "id": "QX1kSNMOghDC"
      }
    },
    {
      "cell_type": "code",
      "source": [
        "# install required system dependencies\n",
        "! apt-get install -y xvfb x11-utils\n",
        "\n",
        "# install required python dependencies (might need to install additional gym extras depending)\n",
        "! pip install gym[box2d]==0.17.* pyvirtualdisplay==0.2.* PyOpenGL==3.1.* PyOpenGL-accelerate==3.1.*\n",
        "\n",
        "# Followings are for visualization (as we are running on server without a physical display!)\n",
        "!pip install gym pyvirtualdisplay\n",
        "!apt-get install -y xvfb python-opengl ffmpeg"
      ],
      "metadata": {
        "colab": {
          "base_uri": "https://localhost:8080/"
        },
        "id": "DOgfq9yY8Tb3",
        "outputId": "48ad5d95-390f-4cbb-dc51-6bc4e00936d7"
      },
      "execution_count": null,
      "outputs": [
        {
          "output_type": "stream",
          "name": "stdout",
          "text": [
            "Reading package lists... Done\n",
            "Building dependency tree       \n",
            "Reading state information... Done\n",
            "x11-utils is already the newest version (7.7+3build1).\n",
            "xvfb is already the newest version (2:1.19.6-1ubuntu4.10).\n",
            "The following package was automatically installed and is no longer required:\n",
            "  libnvidia-common-470\n",
            "Use 'apt autoremove' to remove it.\n",
            "0 upgraded, 0 newly installed, 0 to remove and 39 not upgraded.\n",
            "Requirement already satisfied: gym[box2d]==0.17.* in /usr/local/lib/python3.7/dist-packages (0.17.3)\n",
            "Requirement already satisfied: pyvirtualdisplay==0.2.* in /usr/local/lib/python3.7/dist-packages (0.2.5)\n",
            "Requirement already satisfied: PyOpenGL==3.1.* in /usr/local/lib/python3.7/dist-packages (3.1.5)\n",
            "Requirement already satisfied: PyOpenGL-accelerate==3.1.* in /usr/local/lib/python3.7/dist-packages (3.1.5)\n",
            "Requirement already satisfied: EasyProcess in /usr/local/lib/python3.7/dist-packages (from pyvirtualdisplay==0.2.*) (1.1)\n",
            "Requirement already satisfied: scipy in /usr/local/lib/python3.7/dist-packages (from gym[box2d]==0.17.*) (1.4.1)\n",
            "Requirement already satisfied: numpy>=1.10.4 in /usr/local/lib/python3.7/dist-packages (from gym[box2d]==0.17.*) (1.21.5)\n",
            "Requirement already satisfied: cloudpickle<1.7.0,>=1.2.0 in /usr/local/lib/python3.7/dist-packages (from gym[box2d]==0.17.*) (1.3.0)\n",
            "Requirement already satisfied: pyglet<=1.5.0,>=1.4.0 in /usr/local/lib/python3.7/dist-packages (from gym[box2d]==0.17.*) (1.5.0)\n",
            "Requirement already satisfied: box2d-py~=2.3.5 in /usr/local/lib/python3.7/dist-packages (from gym[box2d]==0.17.*) (2.3.8)\n",
            "Requirement already satisfied: future in /usr/local/lib/python3.7/dist-packages (from pyglet<=1.5.0,>=1.4.0->gym[box2d]==0.17.*) (0.16.0)\n",
            "Requirement already satisfied: gym in /usr/local/lib/python3.7/dist-packages (0.17.3)\n",
            "Requirement already satisfied: pyvirtualdisplay in /usr/local/lib/python3.7/dist-packages (0.2.5)\n",
            "Requirement already satisfied: scipy in /usr/local/lib/python3.7/dist-packages (from gym) (1.4.1)\n",
            "Requirement already satisfied: numpy>=1.10.4 in /usr/local/lib/python3.7/dist-packages (from gym) (1.21.5)\n",
            "Requirement already satisfied: pyglet<=1.5.0,>=1.4.0 in /usr/local/lib/python3.7/dist-packages (from gym) (1.5.0)\n",
            "Requirement already satisfied: cloudpickle<1.7.0,>=1.2.0 in /usr/local/lib/python3.7/dist-packages (from gym) (1.3.0)\n",
            "Requirement already satisfied: future in /usr/local/lib/python3.7/dist-packages (from pyglet<=1.5.0,>=1.4.0->gym) (0.16.0)\n",
            "Requirement already satisfied: EasyProcess in /usr/local/lib/python3.7/dist-packages (from pyvirtualdisplay) (1.1)\n",
            "Reading package lists... Done\n",
            "Building dependency tree       \n",
            "Reading state information... Done\n",
            "python-opengl is already the newest version (3.1.0+dfsg-1).\n",
            "ffmpeg is already the newest version (7:3.4.8-0ubuntu0.2).\n",
            "xvfb is already the newest version (2:1.19.6-1ubuntu4.10).\n",
            "The following package was automatically installed and is no longer required:\n",
            "  libnvidia-common-470\n",
            "Use 'apt autoremove' to remove it.\n",
            "0 upgraded, 0 newly installed, 0 to remove and 39 not upgraded.\n"
          ]
        }
      ]
    },
    {
      "cell_type": "markdown",
      "source": [
        "### 4.  And then, let's **import the libraries** (including stable-baselines3) we need to use."
      ],
      "metadata": {
        "id": "WWFlxXSZgXkM"
      }
    },
    {
      "cell_type": "code",
      "source": [
        "import gym\n",
        "import torch\n",
        "\n",
        "from stable_baselines3 import A2C, DQN, PPO\n",
        "from stable_baselines3.common.env_util import make_atari_env\n",
        "from stable_baselines3.common.vec_env import VecFrameStack\n",
        "from stable_baselines3.common.monitor import Monitor\n",
        "from stable_baselines3.common.vec_env import DummyVecEnv, SubprocVecEnv\n",
        "from stable_baselines3.common.env_util import make_vec_env\n",
        "from stable_baselines3.common.vec_env import VecExtractDictObs, VecMonitor\n",
        "from stable_baselines3.common.evaluation import evaluate_policy\n",
        "from stable_baselines3.common.vec_env import VecVideoRecorder\n",
        "from stable_baselines3.common import results_plotter\n",
        "from stable_baselines3.common.results_plotter import load_results, ts2xy, plot_results\n",
        "from stable_baselines3.common.callbacks import BaseCallback"
      ],
      "metadata": {
        "id": "eqfNk0cqsPC9"
      },
      "execution_count": null,
      "outputs": []
    },
    {
      "cell_type": "markdown",
      "source": [
        "### 5. We need a bunch of stuff for **visualization** (as we are running on server without a physical display!). Let's not worry about the details here."
      ],
      "metadata": {
        "id": "tKXV5pBKLpeS"
      }
    },
    {
      "cell_type": "code",
      "source": [
        "from stable_baselines3.common.monitor import Monitor as TrainMonitor\n",
        "from gym.wrappers import Monitor as EvalMonitor\n",
        "import glob\n",
        "import matplotlib.pyplot as plt\n",
        "import numpy as np\n",
        "import os\n",
        "import io\n",
        "import base64\n",
        "from IPython.display import HTML, clear_output\n",
        "from IPython import display as ipythondisplay\n",
        "from pyvirtualdisplay import Display\n",
        "\n",
        "display = Display(visible=0, size=(400, 300))\n",
        "display.start()"
      ],
      "metadata": {
        "id": "1f3lMp45e_CZ",
        "colab": {
          "base_uri": "https://localhost:8080/"
        },
        "outputId": "e59c33d9-859b-44ff-eb2b-4cb66cc3b07b"
      },
      "execution_count": null,
      "outputs": [
        {
          "output_type": "execute_result",
          "data": {
            "text/plain": [
              "<Display cmd_param=['Xvfb', '-br', '-nolisten', 'tcp', '-screen', '0', '400x300x24', ':1017'] cmd=['Xvfb', '-br', '-nolisten', 'tcp', '-screen', '0', '400x300x24', ':1017'] oserror=None return_code=None stdout=\"None\" stderr=\"None\" timeout_happened=False>"
            ]
          },
          "metadata": {},
          "execution_count": 41
        }
      ]
    },
    {
      "cell_type": "markdown",
      "source": [
        "### 6. Here's our function for visualization of the result as a **video**."
      ],
      "metadata": {
        "id": "QV2OlNQiTAx9"
      }
    },
    {
      "cell_type": "code",
      "source": [
        "def show_video():\n",
        "  mp4list = glob.glob('video/*.mp4')\n",
        "  if len(mp4list) > 0:\n",
        "    mp4 = mp4list[0]\n",
        "    video = io.open(mp4, 'r+b').read()\n",
        "    encoded = base64.b64encode(video)\n",
        "    ipythondisplay.display(HTML(data='''<video alt=\"test\" autoplay \n",
        "                loop controls style=\"height: 400px;\">\n",
        "                <source src=\"data:video/mp4;base64,{0}\" type=\"video/mp4\" />\n",
        "             </video>'''.format(encoded.decode('ascii'))))\n",
        "  else: \n",
        "    print(\"Could not find video\")\n",
        "    \n",
        "def wrap_env(env):\n",
        "  env = EvalMonitor(env, './video', force=True)\n",
        "  return env"
      ],
      "metadata": {
        "id": "TSRCpPdzTBHQ"
      },
      "execution_count": null,
      "outputs": []
    },
    {
      "cell_type": "markdown",
      "source": [
        "### 7. Here's a function to **check the training process**. "
      ],
      "metadata": {
        "id": "EPPdo2zCaRUT"
      }
    },
    {
      "cell_type": "code",
      "source": [
        "class SaveOnBestTrainingRewardCallback(BaseCallback):\n",
        "    \"\"\"\n",
        "    Callback for saving a model (the check is done every ``check_freq`` steps)\n",
        "    based on the training reward (in practice, we recommend using ``EvalCallback``).\n",
        "\n",
        "    :param check_freq:\n",
        "    :param log_dir: Path to the folder where the model will be saved.\n",
        "      It must contains the file created by the ``Monitor`` wrapper.\n",
        "    :param verbose: Verbosity level.\n",
        "    \"\"\"\n",
        "    def __init__(self, check_freq: int, log_dir: str, verbose: int = 1):\n",
        "        super(SaveOnBestTrainingRewardCallback, self).__init__(verbose)\n",
        "        self.check_freq = check_freq\n",
        "        self.log_dir = log_dir\n",
        "        self.save_path = os.path.join(log_dir, 'best_model')\n",
        "        self.best_mean_reward = -np.inf\n",
        "\n",
        "    def _init_callback(self) -> None:\n",
        "        # Create folder if needed\n",
        "        if self.save_path is not None:\n",
        "            os.makedirs(self.save_path, exist_ok=True)\n",
        "\n",
        "    def _on_step(self) -> bool:\n",
        "        if self.n_calls % self.check_freq == 0:\n",
        "\n",
        "          # Retrieve training reward\n",
        "          x, y = ts2xy(load_results(self.log_dir), 'timesteps')\n",
        "          if len(x) > 0:\n",
        "              # Mean training reward over the last 100 episodes\n",
        "              mean_reward = np.mean(y[-100:])\n",
        "              if self.verbose > 0:\n",
        "                print(f\"Num timesteps: {self.num_timesteps}\")\n",
        "                print(f\"Best mean reward: {self.best_mean_reward:.2f} - Last mean reward per episode: {mean_reward:.2f}\")\n",
        "\n",
        "              # New best model, you could save the agent here\n",
        "              if mean_reward > self.best_mean_reward:\n",
        "                  self.best_mean_reward = mean_reward\n",
        "                  # Example for saving best model\n",
        "                  if self.verbose > 0:\n",
        "                    print(f\"Saving new best model to {self.save_path}\")\n",
        "                  self.model.save(self.save_path)\n",
        "\n",
        "        return True"
      ],
      "metadata": {
        "id": "furoKTZlWQ7O"
      },
      "execution_count": null,
      "outputs": []
    },
    {
      "cell_type": "markdown",
      "source": [
        "### 8. Let's start **training DQN**. This is pretty much all we need (everything is encapsulated in stable-baselines3). Of course, you can easily change the hyperparameters if you want. See the manual below. \n",
        "\n",
        "https://stable-baselines3.readthedocs.io/_/downloads/en/master/pdf/\n",
        "\n",
        "Below shows the list of hyperparameters we can change.\n",
        "\n",
        "**DQN**(policy, env, learning_rate=0.0001, buffer_size=1000000,\n",
        "learning_starts=50000, batch_size=32, tau=1.0, gamma=0.99,\n",
        "train_freq=4, gradient_steps=1, replay_buffer_class=None,\n",
        "replay_buffer_kwargs=None, optimize_memory_usage=False,\n",
        "target_update_interval=10000, exploration_fraction=0.1,\n",
        "exploration_initial_eps=1.0, exploration_final_eps=0.05,\n",
        "max_grad_norm=10, tensorboard_log=None, create_eval_env=False,\n",
        "policy_kwargs=None, verbose=0, seed=None, device='auto',\n",
        "_init_setup_model=True)\n"
      ],
      "metadata": {
        "id": "Tni-Xz9jOMJX"
      }
    },
    {
      "cell_type": "code",
      "source": [
        "# env = make_atari_env('CartPole-v1', n_envs=1, seed=0)\n",
        "env = gym.make('CartPole-v1')\n",
        "\n",
        "# Create log dir\n",
        "log_dir = \"/tmp/gym/\"\n",
        "os.makedirs(log_dir, exist_ok=True)\n",
        "\n",
        "# Create and wrap the environment\n",
        "env = TrainMonitor(gym.make('CartPole-v1'), log_dir)\n",
        "model = DQN('MlpPolicy', env, buffer_size=int(1e4), verbose=1)\n",
        "\n",
        "# See below to check the list of hyperparameters we can control\n",
        "# DQN(policy, env, learning_rate=0.0001, buffer_size=1000000, \n",
        "# learning_starts=50000, batch_size=32, tau=1.0, gamma=0.99,\n",
        "# train_freq=4, gradient_steps=1, replay_buffer_class=None,\n",
        "# replay_buffer_kwargs=None, optimize_memory_usage=False,\n",
        "# target_update_interval=10000, exploration_fraction=0.1,\n",
        "# exploration_initial_eps=1.0, exploration_final_eps=0.05,\n",
        "# max_grad_norm=10, tensorboard_log=None, create_eval_env=False,\n",
        "# policy_kwargs=None, verbose=0, seed=None, device='auto',\n",
        "# _init_setup_model=True)\n",
        "\n",
        "\n",
        "# Create the callback: check every 1000 steps\n",
        "callback = SaveOnBestTrainingRewardCallback(check_freq=10000, log_dir=log_dir)\n",
        "\n",
        "timesteps = int(1e5)\n",
        "model.learn(total_timesteps=timesteps, callback = callback, eval_freq=10000, log_interval=10000)\n",
        "\n",
        "plot_results([log_dir], timesteps, results_plotter.X_TIMESTEPS, \"DQN CartPole\")\n",
        "plt.show()"
      ],
      "metadata": {
        "id": "iOhh5GM-seDP",
        "colab": {
          "base_uri": "https://localhost:8080/",
          "height": 685
        },
        "outputId": "f947f70a-fbff-4388-aaf1-375a35dacacf"
      },
      "execution_count": null,
      "outputs": [
        {
          "output_type": "stream",
          "name": "stdout",
          "text": [
            "Using cpu device\n",
            "Wrapping the env in a DummyVecEnv.\n",
            "Num timesteps: 10000\n",
            "Best mean reward: -inf - Last mean reward per episode: 22.76\n",
            "Saving new best model to /tmp/gym/best_model\n",
            "Num timesteps: 20000\n",
            "Best mean reward: 22.76 - Last mean reward per episode: 23.12\n",
            "Saving new best model to /tmp/gym/best_model\n",
            "Num timesteps: 30000\n",
            "Best mean reward: 23.12 - Last mean reward per episode: 23.18\n",
            "Saving new best model to /tmp/gym/best_model\n",
            "Num timesteps: 40000\n",
            "Best mean reward: 23.18 - Last mean reward per episode: 23.20\n",
            "Saving new best model to /tmp/gym/best_model\n",
            "Num timesteps: 50000\n",
            "Best mean reward: 23.20 - Last mean reward per episode: 23.33\n",
            "Saving new best model to /tmp/gym/best_model\n",
            "Num timesteps: 60000\n",
            "Best mean reward: 23.33 - Last mean reward per episode: 11.69\n",
            "Num timesteps: 70000\n",
            "Best mean reward: 23.33 - Last mean reward per episode: 14.61\n",
            "Num timesteps: 80000\n",
            "Best mean reward: 23.33 - Last mean reward per episode: 16.45\n",
            "Num timesteps: 90000\n",
            "Best mean reward: 23.33 - Last mean reward per episode: 48.24\n",
            "Saving new best model to /tmp/gym/best_model\n",
            "Num timesteps: 100000\n",
            "Best mean reward: 48.24 - Last mean reward per episode: 125.56\n",
            "Saving new best model to /tmp/gym/best_model\n"
          ]
        },
        {
          "output_type": "display_data",
          "data": {
            "image/png": "[encoded data removed]",
            "text/plain": [
              "<Figure size 576x144 with 1 Axes>"
            ]
          },
          "metadata": {
            "needs_background": "light"
          }
        }
      ]
    },
    {
      "cell_type": "markdown",
      "source": [
        "### 9. Now, let's **evaluate** the performance of the trained network (DQN)!"
      ],
      "metadata": {
        "id": "tkMnCM9FOVCm"
      }
    },
    {
      "cell_type": "code",
      "source": [
        "from stable_baselines3.common.evaluation import evaluate_policy\n",
        "from stable_baselines3 import A2C, DQN, PPO\n",
        "\n",
        "env_id = 'CartPole-v1'\n",
        "\n",
        "# Evaluate the agent\n",
        "env = wrap_env(gym.make(env_id))\n",
        "\n",
        "# model = PPO.load('SAVED_PATH', env)\n",
        "\n",
        "# mean_reward, std_reward = evaluate_policy(model, model.get_env(), n_eval_episodes=10)\n",
        "# print(mean_reward, std_reward)\n",
        "\n",
        "# Enjoy trained agent\n",
        "obs = env.reset()\n",
        "\n",
        "while True:\n",
        "    action, _states = model.predict(obs, deterministic=False)\n",
        "    obs, rewards, dones, info = env.step(action)\n",
        "    env.render()\n",
        "    if dones == True:\n",
        "        break\n",
        "env.close()\n",
        "show_video()"
      ],
      "metadata": {
        "colab": {
          "base_uri": "https://localhost:8080/",
          "height": 420
        },
        "id": "P9VvB2NqTX2V",
        "outputId": "4254f65b-a442-4f34-f9b6-24b6987d0c25"
      },
      "execution_count": null,
      "outputs": [
        {
          "output_type": "display_data",
          "data": {
            "text/html": [
              "<video alt=\"test\" autoplay \n",
              "                loop controls style=\"height: 400px;\">\n",
              "                <source src=\"data:video/mp4;base64,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\" type=\"video/mp4\" />\n",
              "             </video>"
            ],
            "text/plain": [
              "<IPython.core.display.HTML object>"
            ]
          },
          "metadata": {}
        }
      ]
    },
    {
      "cell_type": "markdown",
      "source": [
        "### **Congratulations**! You sucessfully trained a DQN using stable-baselines3."
      ],
      "metadata": {
        "id": "xj3eNRsnsd25"
      }
    },
    {
      "cell_type": "markdown",
      "source": [
        "---"
      ],
      "metadata": {
        "id": "pzKHjnaEOU3f"
      }
    },
    {
      "cell_type": "markdown",
      "source": [
        "### 10. Let's just try one more thing. The point of using library is to make our lives easier...so let's see how easy it is. Below is all we need to train the agent using PPO algorithm.\n",
        "\n",
        "**PPO**(policy, env, learning_rate=0.0003, n_steps=2048, batch_size=64,\n",
        "n_epochs=10, gamma=0.99, gae_lambda=0.95, clip_range=0.2,\n",
        "clip_range_vf=None, normalize_advantage=True, ent_coef=0.0,\n",
        "vf_coef=0.5, max_grad_norm=0.5, use_sde=False, sde_sample_freq=- 1,\n",
        "target_kl=None, tensorboard_log=None, create_eval_env=False,\n",
        "policy_kwargs=None, verbose=0, seed=None, device='auto',\n",
        "_init_setup_model=True)"
      ],
      "metadata": {
        "id": "amzoe_GzN-s3"
      }
    },
    {
      "cell_type": "code",
      "source": [
        "env = gym.make('CartPole-v1')\n",
        "\n",
        "# Create log dir\n",
        "log_dir = \"/tmp/gym/\"\n",
        "os.makedirs(log_dir, exist_ok=True)\n",
        "\n",
        "# Create and wrap the environment\n",
        "env = TrainMonitor(gym.make('CartPole-v1'), log_dir)\n",
        "model2 = PPO('MlpPolicy', env, verbose=1)\n",
        "\n",
        "# See below to check the list of hyperparameters we can control\n",
        "# PPO(policy, env, learning_rate=0.0003, n_steps=2048, batch_size=64,\n",
        "# n_epochs=10, gamma=0.99, gae_lambda=0.95, clip_range=0.2,\n",
        "# clip_range_vf=None, normalize_advantage=True, ent_coef=0.0,\n",
        "# vf_coef=0.5, max_grad_norm=0.5, use_sde=False, sde_sample_freq=- 1,\n",
        "# target_kl=None, tensorboard_log=None, create_eval_env=False,\n",
        "# policy_kwargs=None, verbose=0, seed=None, device='auto',\n",
        "# _init_setup_model=True)\n",
        "\n",
        "\n",
        "# Create the callback: check every 1000 steps\n",
        "callback = SaveOnBestTrainingRewardCallback(check_freq=10000, log_dir=log_dir)\n",
        "\n",
        "timesteps = int(1e5)\n",
        "model2.learn(total_timesteps=timesteps, callback = callback, eval_freq=10000, log_interval=10000)\n",
        "\n",
        "plot_results([log_dir], timesteps, results_plotter.X_TIMESTEPS, \"DQN CartPole\")\n",
        "plt.show()"
      ],
      "metadata": {
        "colab": {
          "base_uri": "https://localhost:8080/",
          "height": 721
        },
        "id": "g_NT005GNYnN",
        "outputId": "c372832a-6a76-4cdb-ea16-e1faf0985d7a"
      },
      "execution_count": null,
      "outputs": [
        {
          "output_type": "stream",
          "name": "stdout",
          "text": [
            "Using cpu device\n",
            "Wrapping the env in a DummyVecEnv.\n",
            "Num timesteps: 10000\n",
            "Best mean reward: -inf - Last mean reward per episode: 55.92\n",
            "Saving new best model to /tmp/gym/best_model\n",
            "Num timesteps: 20000\n",
            "Best mean reward: 55.92 - Last mean reward per episode: 141.81\n",
            "Saving new best model to /tmp/gym/best_model\n",
            "Num timesteps: 30000\n",
            "Best mean reward: 141.81 - Last mean reward per episode: 227.62\n",
            "Saving new best model to /tmp/gym/best_model\n",
            "Num timesteps: 40000\n",
            "Best mean reward: 227.62 - Last mean reward per episode: 316.83\n",
            "Saving new best model to /tmp/gym/best_model\n",
            "Num timesteps: 50000\n",
            "Best mean reward: 316.83 - Last mean reward per episode: 393.41\n",
            "Saving new best model to /tmp/gym/best_model\n",
            "Num timesteps: 60000\n",
            "Best mean reward: 393.41 - Last mean reward per episode: 460.22\n",
            "Saving new best model to /tmp/gym/best_model\n",
            "Num timesteps: 70000\n",
            "Best mean reward: 460.22 - Last mean reward per episode: 487.72\n",
            "Saving new best model to /tmp/gym/best_model\n",
            "Num timesteps: 80000\n",
            "Best mean reward: 487.72 - Last mean reward per episode: 496.32\n",
            "Saving new best model to /tmp/gym/best_model\n",
            "Num timesteps: 90000\n",
            "Best mean reward: 496.32 - Last mean reward per episode: 500.00\n",
            "Saving new best model to /tmp/gym/best_model\n",
            "Num timesteps: 100000\n",
            "Best mean reward: 500.00 - Last mean reward per episode: 500.00\n"
          ]
        },
        {
          "output_type": "display_data",
          "data": {
            "image/png": "[encoded data removed]",
            "text/plain": [
              "<Figure size 576x144 with 1 Axes>"
            ]
          },
          "metadata": {
            "needs_background": "light"
          }
        }
      ]
    },
    {
      "cell_type": "markdown",
      "source": [
        "### 11. Again, let's **evaluate** the performance of the trained network (PPO)!"
      ],
      "metadata": {
        "id": "uw1n7QKwOLXc"
      }
    },
    {
      "cell_type": "code",
      "source": [
        "from stable_baselines3.common.evaluation import evaluate_policy\n",
        "from stable_baselines3 import A2C, DQN, PPO\n",
        "\n",
        "env_id = 'CartPole-v1'\n",
        "\n",
        "# Evaluate the agent\n",
        "env = wrap_env(gym.make(env_id))\n",
        "\n",
        "# model = PPO.load('SAVED_PATH', env)\n",
        "\n",
        "# mean_reward, std_reward = evaluate_policy(model, model.get_env(), n_eval_episodes=10)\n",
        "# print(mean_reward, std_reward)\n",
        "\n",
        "# Enjoy trained agent\n",
        "obs = env.reset()\n",
        "\n",
        "while True:\n",
        "    action, _states = model2.predict(obs, deterministic=False)\n",
        "    obs, rewards, dones, info = env.step(action)\n",
        "    env.render()\n",
        "    if dones == True:\n",
        "        break\n",
        "env.close()\n",
        "show_video()"
      ],
      "metadata": {
        "colab": {
          "base_uri": "https://localhost:8080/",
          "height": 420
        },
        "id": "HU_ngTj2N74g",
        "outputId": "57f0ceae-4490-4df1-a4af-c2bc7b0f52a1"
      },
      "execution_count": null,
      "outputs": [
        {
          "output_type": "display_data",
          "data": {
            "text/html": [
              "<video alt=\"test\" autoplay \n",
              "                loop controls style=\"height: 400px;\">\n",
              "                <source src=\"data:video/mp4;base64,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\" type=\"video/mp4\" />\n",
              "             </video>"
            ],
            "text/plain": [
              "<IPython.core.display.HTML object>"
            ]
          },
          "metadata": {}
        }
      ]
    },
    {
      "cell_type": "code",
      "source": [
        ""
      ],
      "metadata": {
        "id": "G0FV5nOtaF6G"
      },
      "execution_count": null,
      "outputs": []
    }
  ]
}